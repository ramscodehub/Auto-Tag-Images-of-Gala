{
  "nbformat": 4,
  "nbformat_minor": 0,
  "metadata": {
    "colab": {
      "name": "Copy of Copy of autotagImagesGalaFinal.ipynb",
      "provenance": [],
      "collapsed_sections": [],
      "machine_shape": "hm",
      "authorship_tag": "ABX9TyPUpiLbJNPIxAH4exLcXxWg",
      "include_colab_link": true
    },
    "kernelspec": {
      "name": "python3",
      "display_name": "Python 3"
    },
    "widgets": {
      "application/vnd.jupyter.widget-state+json": {
        "23291a0e722e49c7a72bd85623dcd810": {
          "model_module": "@jupyter-widgets/controls",
          "model_name": "HBoxModel",
          "state": {
            "_view_name": "HBoxView",
            "_dom_classes": [],
            "_model_name": "HBoxModel",
            "_view_module": "@jupyter-widgets/controls",
            "_model_module_version": "1.5.0",
            "_view_count": null,
            "_view_module_version": "1.5.0",
            "box_style": "",
            "layout": "IPY_MODEL_023560380f984279b53537cf4b74494d",
            "_model_module": "@jupyter-widgets/controls",
            "children": [
              "IPY_MODEL_c844e73d78e543f5b3d35e5a2011405b",
              "IPY_MODEL_0e76565d72a441d9af351bea16625bee"
            ]
          }
        },
        "023560380f984279b53537cf4b74494d": {
          "model_module": "@jupyter-widgets/base",
          "model_name": "LayoutModel",
          "state": {
            "_view_name": "LayoutView",
            "grid_template_rows": null,
            "right": null,
            "justify_content": null,
            "_view_module": "@jupyter-widgets/base",
            "overflow": null,
            "_model_module_version": "1.2.0",
            "_view_count": null,
            "flex_flow": null,
            "width": null,
            "min_width": null,
            "border": null,
            "align_items": null,
            "bottom": null,
            "_model_module": "@jupyter-widgets/base",
            "top": null,
            "grid_column": null,
            "overflow_y": null,
            "overflow_x": null,
            "grid_auto_flow": null,
            "grid_area": null,
            "grid_template_columns": null,
            "flex": null,
            "_model_name": "LayoutModel",
            "justify_items": null,
            "grid_row": null,
            "max_height": null,
            "align_content": null,
            "visibility": null,
            "align_self": null,
            "height": null,
            "min_height": null,
            "padding": null,
            "grid_auto_rows": null,
            "grid_gap": null,
            "max_width": null,
            "order": null,
            "_view_module_version": "1.2.0",
            "grid_template_areas": null,
            "object_position": null,
            "object_fit": null,
            "grid_auto_columns": null,
            "margin": null,
            "display": null,
            "left": null
          }
        },
        "c844e73d78e543f5b3d35e5a2011405b": {
          "model_module": "@jupyter-widgets/controls",
          "model_name": "IntProgressModel",
          "state": {
            "_view_name": "ProgressView",
            "style": "IPY_MODEL_05405e4283634f3097bf3c6171dd8b90",
            "_dom_classes": [],
            "description": "100%",
            "_model_name": "IntProgressModel",
            "bar_style": "success",
            "max": 5983,
            "_view_module": "@jupyter-widgets/controls",
            "_model_module_version": "1.5.0",
            "value": 5983,
            "_view_count": null,
            "_view_module_version": "1.5.0",
            "orientation": "horizontal",
            "min": 0,
            "description_tooltip": null,
            "_model_module": "@jupyter-widgets/controls",
            "layout": "IPY_MODEL_4e21eb42b625460e9e54ad3558641dc4"
          }
        },
        "0e76565d72a441d9af351bea16625bee": {
          "model_module": "@jupyter-widgets/controls",
          "model_name": "HTMLModel",
          "state": {
            "_view_name": "HTMLView",
            "style": "IPY_MODEL_a12db7c3f7c24eba8022dd310e102479",
            "_dom_classes": [],
            "description": "",
            "_model_name": "HTMLModel",
            "placeholder": "​",
            "_view_module": "@jupyter-widgets/controls",
            "_model_module_version": "1.5.0",
            "value": " 5983/5983 [00:37&lt;00:00, 161.54it/s]",
            "_view_count": null,
            "_view_module_version": "1.5.0",
            "description_tooltip": null,
            "_model_module": "@jupyter-widgets/controls",
            "layout": "IPY_MODEL_e5abd9739e7f4570848ceb3fe85d5c99"
          }
        },
        "05405e4283634f3097bf3c6171dd8b90": {
          "model_module": "@jupyter-widgets/controls",
          "model_name": "ProgressStyleModel",
          "state": {
            "_view_name": "StyleView",
            "_model_name": "ProgressStyleModel",
            "description_width": "initial",
            "_view_module": "@jupyter-widgets/base",
            "_model_module_version": "1.5.0",
            "_view_count": null,
            "_view_module_version": "1.2.0",
            "bar_color": null,
            "_model_module": "@jupyter-widgets/controls"
          }
        },
        "4e21eb42b625460e9e54ad3558641dc4": {
          "model_module": "@jupyter-widgets/base",
          "model_name": "LayoutModel",
          "state": {
            "_view_name": "LayoutView",
            "grid_template_rows": null,
            "right": null,
            "justify_content": null,
            "_view_module": "@jupyter-widgets/base",
            "overflow": null,
            "_model_module_version": "1.2.0",
            "_view_count": null,
            "flex_flow": null,
            "width": null,
            "min_width": null,
            "border": null,
            "align_items": null,
            "bottom": null,
            "_model_module": "@jupyter-widgets/base",
            "top": null,
            "grid_column": null,
            "overflow_y": null,
            "overflow_x": null,
            "grid_auto_flow": null,
            "grid_area": null,
            "grid_template_columns": null,
            "flex": null,
            "_model_name": "LayoutModel",
            "justify_items": null,
            "grid_row": null,
            "max_height": null,
            "align_content": null,
            "visibility": null,
            "align_self": null,
            "height": null,
            "min_height": null,
            "padding": null,
            "grid_auto_rows": null,
            "grid_gap": null,
            "max_width": null,
            "order": null,
            "_view_module_version": "1.2.0",
            "grid_template_areas": null,
            "object_position": null,
            "object_fit": null,
            "grid_auto_columns": null,
            "margin": null,
            "display": null,
            "left": null
          }
        },
        "a12db7c3f7c24eba8022dd310e102479": {
          "model_module": "@jupyter-widgets/controls",
          "model_name": "DescriptionStyleModel",
          "state": {
            "_view_name": "StyleView",
            "_model_name": "DescriptionStyleModel",
            "description_width": "",
            "_view_module": "@jupyter-widgets/base",
            "_model_module_version": "1.5.0",
            "_view_count": null,
            "_view_module_version": "1.2.0",
            "_model_module": "@jupyter-widgets/controls"
          }
        },
        "e5abd9739e7f4570848ceb3fe85d5c99": {
          "model_module": "@jupyter-widgets/base",
          "model_name": "LayoutModel",
          "state": {
            "_view_name": "LayoutView",
            "grid_template_rows": null,
            "right": null,
            "justify_content": null,
            "_view_module": "@jupyter-widgets/base",
            "overflow": null,
            "_model_module_version": "1.2.0",
            "_view_count": null,
            "flex_flow": null,
            "width": null,
            "min_width": null,
            "border": null,
            "align_items": null,
            "bottom": null,
            "_model_module": "@jupyter-widgets/base",
            "top": null,
            "grid_column": null,
            "overflow_y": null,
            "overflow_x": null,
            "grid_auto_flow": null,
            "grid_area": null,
            "grid_template_columns": null,
            "flex": null,
            "_model_name": "LayoutModel",
            "justify_items": null,
            "grid_row": null,
            "max_height": null,
            "align_content": null,
            "visibility": null,
            "align_self": null,
            "height": null,
            "min_height": null,
            "padding": null,
            "grid_auto_rows": null,
            "grid_gap": null,
            "max_width": null,
            "order": null,
            "_view_module_version": "1.2.0",
            "grid_template_areas": null,
            "object_position": null,
            "object_fit": null,
            "grid_auto_columns": null,
            "margin": null,
            "display": null,
            "left": null
          }
        },
        "1a9dfc11f8474780ab9fca479afa3444": {
          "model_module": "@jupyter-widgets/controls",
          "model_name": "HBoxModel",
          "state": {
            "_view_name": "HBoxView",
            "_dom_classes": [],
            "_model_name": "HBoxModel",
            "_view_module": "@jupyter-widgets/controls",
            "_model_module_version": "1.5.0",
            "_view_count": null,
            "_view_module_version": "1.5.0",
            "box_style": "",
            "layout": "IPY_MODEL_e122f93b1b6848b08c1a9d39ff4879e5",
            "_model_module": "@jupyter-widgets/controls",
            "children": [
              "IPY_MODEL_7324965638b64577b72297909fe6da1d",
              "IPY_MODEL_029d8109896d47138ac3bb82130328fb"
            ]
          }
        },
        "e122f93b1b6848b08c1a9d39ff4879e5": {
          "model_module": "@jupyter-widgets/base",
          "model_name": "LayoutModel",
          "state": {
            "_view_name": "LayoutView",
            "grid_template_rows": null,
            "right": null,
            "justify_content": null,
            "_view_module": "@jupyter-widgets/base",
            "overflow": null,
            "_model_module_version": "1.2.0",
            "_view_count": null,
            "flex_flow": null,
            "width": null,
            "min_width": null,
            "border": null,
            "align_items": null,
            "bottom": null,
            "_model_module": "@jupyter-widgets/base",
            "top": null,
            "grid_column": null,
            "overflow_y": null,
            "overflow_x": null,
            "grid_auto_flow": null,
            "grid_area": null,
            "grid_template_columns": null,
            "flex": null,
            "_model_name": "LayoutModel",
            "justify_items": null,
            "grid_row": null,
            "max_height": null,
            "align_content": null,
            "visibility": null,
            "align_self": null,
            "height": null,
            "min_height": null,
            "padding": null,
            "grid_auto_rows": null,
            "grid_gap": null,
            "max_width": null,
            "order": null,
            "_view_module_version": "1.2.0",
            "grid_template_areas": null,
            "object_position": null,
            "object_fit": null,
            "grid_auto_columns": null,
            "margin": null,
            "display": null,
            "left": null
          }
        },
        "7324965638b64577b72297909fe6da1d": {
          "model_module": "@jupyter-widgets/controls",
          "model_name": "IntProgressModel",
          "state": {
            "_view_name": "ProgressView",
            "style": "IPY_MODEL_abab85a0882f420fb05363689c5c0ad5",
            "_dom_classes": [],
            "description": "100%",
            "_model_name": "IntProgressModel",
            "bar_style": "success",
            "max": 3219,
            "_view_module": "@jupyter-widgets/controls",
            "_model_module_version": "1.5.0",
            "value": 3219,
            "_view_count": null,
            "_view_module_version": "1.5.0",
            "orientation": "horizontal",
            "min": 0,
            "description_tooltip": null,
            "_model_module": "@jupyter-widgets/controls",
            "layout": "IPY_MODEL_3d82d19871c048639cc6f68095a4fbd5"
          }
        },
        "029d8109896d47138ac3bb82130328fb": {
          "model_module": "@jupyter-widgets/controls",
          "model_name": "HTMLModel",
          "state": {
            "_view_name": "HTMLView",
            "style": "IPY_MODEL_6b72410a15bf412c80ce82175744481e",
            "_dom_classes": [],
            "description": "",
            "_model_name": "HTMLModel",
            "placeholder": "​",
            "_view_module": "@jupyter-widgets/controls",
            "_model_module_version": "1.5.0",
            "value": " 3219/3219 [00:23&lt;00:00, 137.39it/s]",
            "_view_count": null,
            "_view_module_version": "1.5.0",
            "description_tooltip": null,
            "_model_module": "@jupyter-widgets/controls",
            "layout": "IPY_MODEL_083274ba19b8489ca2f0f83898999d61"
          }
        },
        "abab85a0882f420fb05363689c5c0ad5": {
          "model_module": "@jupyter-widgets/controls",
          "model_name": "ProgressStyleModel",
          "state": {
            "_view_name": "StyleView",
            "_model_name": "ProgressStyleModel",
            "description_width": "initial",
            "_view_module": "@jupyter-widgets/base",
            "_model_module_version": "1.5.0",
            "_view_count": null,
            "_view_module_version": "1.2.0",
            "bar_color": null,
            "_model_module": "@jupyter-widgets/controls"
          }
        },
        "3d82d19871c048639cc6f68095a4fbd5": {
          "model_module": "@jupyter-widgets/base",
          "model_name": "LayoutModel",
          "state": {
            "_view_name": "LayoutView",
            "grid_template_rows": null,
            "right": null,
            "justify_content": null,
            "_view_module": "@jupyter-widgets/base",
            "overflow": null,
            "_model_module_version": "1.2.0",
            "_view_count": null,
            "flex_flow": null,
            "width": null,
            "min_width": null,
            "border": null,
            "align_items": null,
            "bottom": null,
            "_model_module": "@jupyter-widgets/base",
            "top": null,
            "grid_column": null,
            "overflow_y": null,
            "overflow_x": null,
            "grid_auto_flow": null,
            "grid_area": null,
            "grid_template_columns": null,
            "flex": null,
            "_model_name": "LayoutModel",
            "justify_items": null,
            "grid_row": null,
            "max_height": null,
            "align_content": null,
            "visibility": null,
            "align_self": null,
            "height": null,
            "min_height": null,
            "padding": null,
            "grid_auto_rows": null,
            "grid_gap": null,
            "max_width": null,
            "order": null,
            "_view_module_version": "1.2.0",
            "grid_template_areas": null,
            "object_position": null,
            "object_fit": null,
            "grid_auto_columns": null,
            "margin": null,
            "display": null,
            "left": null
          }
        },
        "6b72410a15bf412c80ce82175744481e": {
          "model_module": "@jupyter-widgets/controls",
          "model_name": "DescriptionStyleModel",
          "state": {
            "_view_name": "StyleView",
            "_model_name": "DescriptionStyleModel",
            "description_width": "",
            "_view_module": "@jupyter-widgets/base",
            "_model_module_version": "1.5.0",
            "_view_count": null,
            "_view_module_version": "1.2.0",
            "_model_module": "@jupyter-widgets/controls"
          }
        },
        "083274ba19b8489ca2f0f83898999d61": {
          "model_module": "@jupyter-widgets/base",
          "model_name": "LayoutModel",
          "state": {
            "_view_name": "LayoutView",
            "grid_template_rows": null,
            "right": null,
            "justify_content": null,
            "_view_module": "@jupyter-widgets/base",
            "overflow": null,
            "_model_module_version": "1.2.0",
            "_view_count": null,
            "flex_flow": null,
            "width": null,
            "min_width": null,
            "border": null,
            "align_items": null,
            "bottom": null,
            "_model_module": "@jupyter-widgets/base",
            "top": null,
            "grid_column": null,
            "overflow_y": null,
            "overflow_x": null,
            "grid_auto_flow": null,
            "grid_area": null,
            "grid_template_columns": null,
            "flex": null,
            "_model_name": "LayoutModel",
            "justify_items": null,
            "grid_row": null,
            "max_height": null,
            "align_content": null,
            "visibility": null,
            "align_self": null,
            "height": null,
            "min_height": null,
            "padding": null,
            "grid_auto_rows": null,
            "grid_gap": null,
            "max_width": null,
            "order": null,
            "_view_module_version": "1.2.0",
            "grid_template_areas": null,
            "object_position": null,
            "object_fit": null,
            "grid_auto_columns": null,
            "margin": null,
            "display": null,
            "left": null
          }
        }
      }
    },
    "accelerator": "TPU"
  },
  "cells": [
    {
      "cell_type": "markdown",
      "metadata": {
        "id": "view-in-github",
        "colab_type": "text"
      },
      "source": [
        "<a href=\"https://colab.research.google.com/github/ramscodehub/Auto-Tag-Images-of-Gala/blob/master/Copy_of_Copy_of_autotagImagesGalaFinal.ipynb\" target=\"_parent\"><img src=\"https://colab.research.google.com/assets/colab-badge.svg\" alt=\"Open In Colab\"/></a>"
      ]
    },
    {
      "cell_type": "code",
      "metadata": {
        "id": "j41Eezb3dK8T",
        "colab_type": "code",
        "colab": {
          "base_uri": "https://localhost:8080/",
          "height": 35
        },
        "outputId": "2ca09aa5-13a4-40ea-92c5-7b0de62792fc"
      },
      "source": [
        "#importing required libraries\n",
        "#try:\n",
        "  #%tensorflow_version 2.x\n",
        "#except Exception:\n",
        "  #pass\n",
        "import os\n",
        "import cv2\n",
        "import numpy as np\n",
        "import pandas as pd\n",
        "import tensorflow as tf\n",
        "import tensorflow.keras as keras\n",
        "import matplotlib.pyplot as plt\n",
        "from tqdm.notebook import tqdm\n",
        "from keras.preprocessing import image\n",
        "import matplotlib.image as mpimg \n",
        "import matplotlib.pyplot as plt \n",
        "from tensorflow.keras.applications.vgg16 import preprocess_input, decode_predictions\n",
        "from tensorflow.keras.applications.vgg16 import VGG16\n",
        "from tensorflow.keras.layers import Flatten,Dense,Dropout,BatchNormalization\n",
        "from tensorflow.keras.models import Model,Sequential\n",
        "from tensorflow.keras.utils import to_categorical\n",
        "from tensorflow.keras.layers import Conv2D, MaxPooling2D, BatchNormalization\n",
        "from tensorflow.keras.callbacks import ReduceLROnPlateau\n",
        "#print(tf.__version__)"
      ],
      "execution_count": null,
      "outputs": [
        {
          "output_type": "stream",
          "text": [
            "Using TensorFlow backend.\n"
          ],
          "name": "stderr"
        }
      ]
    },
    {
      "cell_type": "code",
      "metadata": {
        "id": "OEDKMaS2dyuw",
        "colab_type": "code",
        "colab": {
          "base_uri": "https://localhost:8080/",
          "height": 35
        },
        "outputId": "78a3dac4-aa72-4145-f1ab-b6061f766a8a"
      },
      "source": [
        "#mounting google drive\n",
        "from google.colab import drive\n",
        "drive.mount(\"/content/drive\")\n",
        "#getting data directly from drive to colab for loading images fastly\n",
        "!cp -r /content/drive/My\\ Drive/Galas/dataset/trainImagesGala /content/\n",
        "!cp -r /content/drive/My\\ Drive/Galas/dataset/testImagesGala /content/\n",
        "!cp -r /content/drive/My\\ Drive/Galas/dataset/trainGala.csv /content/\n",
        "!cp -r /content/drive/My\\ Drive/Galas/dataset/testGala.csv /content/\n",
        "train_data=pd.read_csv(\"/content/trainGala.csv\")\n",
        "test_data=pd.read_csv(\"/content/testGala.csv\")"
      ],
      "execution_count": null,
      "outputs": [
        {
          "output_type": "stream",
          "text": [
            "Drive already mounted at /content/drive; to attempt to forcibly remount, call drive.mount(\"/content/drive\", force_remount=True).\n"
          ],
          "name": "stdout"
        }
      ]
    },
    {
      "cell_type": "code",
      "metadata": {
        "id": "_LgpNx8oDJxJ",
        "colab_type": "code",
        "colab": {
          "base_uri": "https://localhost:8080/",
          "height": 237
        },
        "outputId": "0342e8b9-7555-4128-eeb2-ada4f2187c27"
      },
      "source": [
        "#checking the dimensionalities of training and testing samples\n",
        "print(\"train_data\",end=\" \")\n",
        "print(train_data.shape)\n",
        "print(\"test_data\",end=\" \")\n",
        "print(test_data.shape)\n",
        "train_data.head()"
      ],
      "execution_count": null,
      "outputs": [
        {
          "output_type": "stream",
          "text": [
            "train_data (5983, 2)\n",
            "test_data (3219, 1)\n"
          ],
          "name": "stdout"
        },
        {
          "output_type": "execute_result",
          "data": {
            "text/html": [
              "<div>\n",
              "<style scoped>\n",
              "    .dataframe tbody tr th:only-of-type {\n",
              "        vertical-align: middle;\n",
              "    }\n",
              "\n",
              "    .dataframe tbody tr th {\n",
              "        vertical-align: top;\n",
              "    }\n",
              "\n",
              "    .dataframe thead th {\n",
              "        text-align: right;\n",
              "    }\n",
              "</style>\n",
              "<table border=\"1\" class=\"dataframe\">\n",
              "  <thead>\n",
              "    <tr style=\"text-align: right;\">\n",
              "      <th></th>\n",
              "      <th>Image</th>\n",
              "      <th>Class</th>\n",
              "    </tr>\n",
              "  </thead>\n",
              "  <tbody>\n",
              "    <tr>\n",
              "      <th>0</th>\n",
              "      <td>image7042.jpg</td>\n",
              "      <td>Food</td>\n",
              "    </tr>\n",
              "    <tr>\n",
              "      <th>1</th>\n",
              "      <td>image3327.jpg</td>\n",
              "      <td>misc</td>\n",
              "    </tr>\n",
              "    <tr>\n",
              "      <th>2</th>\n",
              "      <td>image10335.jpg</td>\n",
              "      <td>Attire</td>\n",
              "    </tr>\n",
              "    <tr>\n",
              "      <th>3</th>\n",
              "      <td>image8019.jpg</td>\n",
              "      <td>Food</td>\n",
              "    </tr>\n",
              "    <tr>\n",
              "      <th>4</th>\n",
              "      <td>image2128.jpg</td>\n",
              "      <td>Attire</td>\n",
              "    </tr>\n",
              "  </tbody>\n",
              "</table>\n",
              "</div>"
            ],
            "text/plain": [
              "            Image   Class\n",
              "0   image7042.jpg    Food\n",
              "1   image3327.jpg    misc\n",
              "2  image10335.jpg  Attire\n",
              "3   image8019.jpg    Food\n",
              "4   image2128.jpg  Attire"
            ]
          },
          "metadata": {
            "tags": []
          },
          "execution_count": 3
        }
      ]
    },
    {
      "cell_type": "code",
      "metadata": {
        "id": "NBUN7Q16F8zJ",
        "colab_type": "code",
        "colab": {
          "base_uri": "https://localhost:8080/",
          "height": 202
        },
        "outputId": "902ebbf0-2017-4113-ecfe-0b221857149f"
      },
      "source": [
        "#converting categorical values i.e., classes  to numerical values for training using dictionaries dataStructure\n",
        "Class_map={\"Food\":0,\"Attire\":1,\"Decorationandsignage\":2,\"misc\":3}\n",
        "inverse_map={0:\"Food\",1:\"Attire\",2:\"Decorationandsignage\",3:\"misc\"}\n",
        "train_data[\"Class\"]=train_data[\"Class\"].map(Class_map)\n",
        "train_data.head()"
      ],
      "execution_count": null,
      "outputs": [
        {
          "output_type": "execute_result",
          "data": {
            "text/html": [
              "<div>\n",
              "<style scoped>\n",
              "    .dataframe tbody tr th:only-of-type {\n",
              "        vertical-align: middle;\n",
              "    }\n",
              "\n",
              "    .dataframe tbody tr th {\n",
              "        vertical-align: top;\n",
              "    }\n",
              "\n",
              "    .dataframe thead th {\n",
              "        text-align: right;\n",
              "    }\n",
              "</style>\n",
              "<table border=\"1\" class=\"dataframe\">\n",
              "  <thead>\n",
              "    <tr style=\"text-align: right;\">\n",
              "      <th></th>\n",
              "      <th>Image</th>\n",
              "      <th>Class</th>\n",
              "    </tr>\n",
              "  </thead>\n",
              "  <tbody>\n",
              "    <tr>\n",
              "      <th>0</th>\n",
              "      <td>image7042.jpg</td>\n",
              "      <td>0</td>\n",
              "    </tr>\n",
              "    <tr>\n",
              "      <th>1</th>\n",
              "      <td>image3327.jpg</td>\n",
              "      <td>3</td>\n",
              "    </tr>\n",
              "    <tr>\n",
              "      <th>2</th>\n",
              "      <td>image10335.jpg</td>\n",
              "      <td>1</td>\n",
              "    </tr>\n",
              "    <tr>\n",
              "      <th>3</th>\n",
              "      <td>image8019.jpg</td>\n",
              "      <td>0</td>\n",
              "    </tr>\n",
              "    <tr>\n",
              "      <th>4</th>\n",
              "      <td>image2128.jpg</td>\n",
              "      <td>1</td>\n",
              "    </tr>\n",
              "  </tbody>\n",
              "</table>\n",
              "</div>"
            ],
            "text/plain": [
              "            Image  Class\n",
              "0   image7042.jpg      0\n",
              "1   image3327.jpg      3\n",
              "2  image10335.jpg      1\n",
              "3   image8019.jpg      0\n",
              "4   image2128.jpg      1"
            ]
          },
          "metadata": {
            "tags": []
          },
          "execution_count": 4
        }
      ]
    },
    {
      "cell_type": "code",
      "metadata": {
        "id": "hSDUX-99BmNp",
        "colab_type": "code",
        "colab": {
          "base_uri": "https://localhost:8080/",
          "height": 67,
          "referenced_widgets": [
            "23291a0e722e49c7a72bd85623dcd810",
            "023560380f984279b53537cf4b74494d",
            "c844e73d78e543f5b3d35e5a2011405b",
            "0e76565d72a441d9af351bea16625bee",
            "05405e4283634f3097bf3c6171dd8b90",
            "4e21eb42b625460e9e54ad3558641dc4",
            "a12db7c3f7c24eba8022dd310e102479",
            "e5abd9739e7f4570848ceb3fe85d5c99"
          ]
        },
        "outputId": "064373c1-9762-465b-ac37-99ecbf9c8cb4"
      },
      "source": [
        "#Data Precprocessing and loading  of Training Samples \n",
        "# importing matplotlib modules \n",
        "train_images=[]\n",
        "train_labels=[]\n",
        "j=0\n",
        "initial_path=\"/content/trainImagesGala\"\n",
        "for i in tqdm(train_data[\"Image\"]):\n",
        "  final_path=os.path.join(initial_path,i)\n",
        "  #print(final_path)\n",
        "  pic = image.load_img(final_path,target_size=(224, 224))\n",
        "  #imag=cv2.resize(imag,(224,224))\n",
        "  #imag=imag.astype(\"float32\")\n",
        "  imag= image.img_to_array(pic)\n",
        "  imag=np.expand_dims(imag,axis=0)\n",
        "  imag=preprocess_input(imag)\n",
        "  train_images.append(imag)\n",
        "  train_labels.append(train_data[\"Class\"][j])\n",
        "  j=j+1"
      ],
      "execution_count": null,
      "outputs": [
        {
          "output_type": "display_data",
          "data": {
            "application/vnd.jupyter.widget-view+json": {
              "model_id": "23291a0e722e49c7a72bd85623dcd810",
              "version_minor": 0,
              "version_major": 2
            },
            "text/plain": [
              "HBox(children=(IntProgress(value=0, max=5983), HTML(value='')))"
            ]
          },
          "metadata": {
            "tags": []
          }
        },
        {
          "output_type": "stream",
          "text": [
            "\n"
          ],
          "name": "stdout"
        }
      ]
    },
    {
      "cell_type": "code",
      "metadata": {
        "id": "Bpir0tRtX9Pd",
        "colab_type": "code",
        "colab": {
          "base_uri": "https://localhost:8080/",
          "height": 67,
          "referenced_widgets": [
            "1a9dfc11f8474780ab9fca479afa3444",
            "e122f93b1b6848b08c1a9d39ff4879e5",
            "7324965638b64577b72297909fe6da1d",
            "029d8109896d47138ac3bb82130328fb",
            "abab85a0882f420fb05363689c5c0ad5",
            "3d82d19871c048639cc6f68095a4fbd5",
            "6b72410a15bf412c80ce82175744481e",
            "083274ba19b8489ca2f0f83898999d61"
          ]
        },
        "outputId": "899425e4-2d7c-409b-e8d8-12fae6dffb3d"
      },
      "source": [
        "#Preprocessing and loading of Test Samples\n",
        "test_images=[]\n",
        "initial_path2=\"/content/testImagesGala\"\n",
        "for i in tqdm(test_data[\"Image\"]):\n",
        "  final_path2=os.path.join(initial_path2,i)\n",
        "  pic=image.load_img(final_path2,target_size=(224,224))\n",
        "  imag=image.img_to_array(pic)\n",
        "  imag=np.expand_dims(imag,axis=0)\n",
        "  imag=preprocess_input(imag)\n",
        "  test_images.append(imag)"
      ],
      "execution_count": null,
      "outputs": [
        {
          "output_type": "display_data",
          "data": {
            "application/vnd.jupyter.widget-view+json": {
              "model_id": "1a9dfc11f8474780ab9fca479afa3444",
              "version_minor": 0,
              "version_major": 2
            },
            "text/plain": [
              "HBox(children=(IntProgress(value=0, max=3219), HTML(value='')))"
            ]
          },
          "metadata": {
            "tags": []
          }
        },
        {
          "output_type": "stream",
          "text": [
            "\n"
          ],
          "name": "stdout"
        }
      ]
    },
    {
      "cell_type": "code",
      "metadata": {
        "id": "7xInjOXIz7No",
        "colab_type": "code",
        "colab": {
          "base_uri": "https://localhost:8080/",
          "height": 87
        },
        "outputId": "cd8c9dde-296a-4044-80dd-9751529cfb7c"
      },
      "source": [
        "#Images\n",
        "from keras.utils import np_utils\n",
        "train_images = np.array(train_images)\n",
        "print(train_images.shape,\"1st\")\n",
        "train_images = np.rollaxis(train_images, 1, 0)\n",
        "print(train_images.shape,  \"2nd\")\n",
        "X_train = train_images[0]\n",
        "print(X_train.shape,   \"3rd\")\n",
        "#Labels\n",
        "train_labels = np.array(train_labels)\n",
        "Y_train = np_utils.to_categorical(train_labels,4)\n",
        "print(Y_train.shape,   \"4th\")"
      ],
      "execution_count": null,
      "outputs": [
        {
          "output_type": "stream",
          "text": [
            "(5983, 1, 224, 224, 3) 1st\n",
            "(1, 5983, 224, 224, 3) 2nd\n",
            "(5983, 224, 224, 3) 3rd\n",
            "(5983, 4) 4th\n"
          ],
          "name": "stdout"
        }
      ]
    },
    {
      "cell_type": "code",
      "metadata": {
        "id": "McjIOVl4ETWI",
        "colab_type": "code",
        "colab": {
          "base_uri": "https://localhost:8080/",
          "height": 69
        },
        "outputId": "17e9d01b-48c3-4111-813c-64bf191e94ce"
      },
      "source": [
        "test_images=np.array(test_images)\n",
        "print(test_images.shape,  \"1st\")\n",
        "test_images=np.rollaxis(test_images,1,0)\n",
        "print(test_images.shape,  \"2nd\")\n",
        "X_test=test_images[0]\n",
        "print(X_test.shape,  \"3rd\")"
      ],
      "execution_count": null,
      "outputs": [
        {
          "output_type": "stream",
          "text": [
            "(3219, 1, 224, 224, 3) 1st\n",
            "(1, 3219, 224, 224, 3) 2nd\n",
            "(3219, 224, 224, 3) 3rd\n"
          ],
          "name": "stdout"
        }
      ]
    },
    {
      "cell_type": "code",
      "metadata": {
        "id": "UJmUa5IlSeTH",
        "colab_type": "code",
        "colab": {
          "base_uri": "https://localhost:8080/",
          "height": 381
        },
        "outputId": "9efff66c-ed12-4c3e-c507-d5773a84669c"
      },
      "source": [
        "#Building the actual model using Transfer Learning\n",
        "from tensorflow.keras.optimizers import Adam,SGD,Adagrad,Adadelta,RMSprop\n",
        "from tensorflow.keras.applications.mobilenet import MobileNet\n",
        "IMAGE_SIZE=[224,224]\n",
        "sample_model=MobileNet(include_top=False,weights='imagenet',input_shape=[*IMAGE_SIZE,3])\n",
        "sample_model.trainable=False\n",
        "actual_model=Sequential([sample_model,\n",
        "                         tf.keras.layers.GlobalAveragePooling2D(),\n",
        "                         Dense(256,activation='relu'),\n",
        "                         Dense(4,activation='softmax')])\n",
        "\n",
        "reduce_learning_rate = ReduceLROnPlateau(monitor='loss',\n",
        "                                         factor=0.1,\n",
        "                                         patience=2,\n",
        "                                         cooldown=2,\n",
        "                                         min_lr=0.00001,\n",
        "                                         verbose=1)\n",
        "callbacks=[reduce_learning_rate]\n",
        "\n",
        "\n",
        "#Compiling the actual_model\n",
        "actual_model.compile(optimizer=\"adam\",loss=\"categorical_crossentropy\",metrics=['accuracy'])\n",
        "actual_model.fit(X_train,Y_train,batch_size=32,epochs=10,callbacks=callbacks)"
      ],
      "execution_count": null,
      "outputs": [
        {
          "output_type": "stream",
          "text": [
            "Epoch 1/10\n",
            "187/187 [==============================] - 24s 127ms/step - loss: 1.0660 - accuracy: 0.5674 - lr: 0.0010\n",
            "Epoch 2/10\n",
            "187/187 [==============================] - 23s 125ms/step - loss: 0.8553 - accuracy: 0.6522 - lr: 0.0010\n",
            "Epoch 3/10\n",
            "187/187 [==============================] - 23s 125ms/step - loss: 0.7775 - accuracy: 0.6838 - lr: 0.0010\n",
            "Epoch 4/10\n",
            "187/187 [==============================] - 23s 124ms/step - loss: 0.7137 - accuracy: 0.7165 - lr: 0.0010\n",
            "Epoch 5/10\n",
            "187/187 [==============================] - 23s 124ms/step - loss: 0.6605 - accuracy: 0.7369 - lr: 0.0010\n",
            "Epoch 6/10\n",
            "187/187 [==============================] - 23s 124ms/step - loss: 0.5844 - accuracy: 0.7729 - lr: 0.0010\n",
            "Epoch 7/10\n",
            "187/187 [==============================] - 23s 123ms/step - loss: 0.5179 - accuracy: 0.7998 - lr: 0.0010\n",
            "Epoch 8/10\n",
            "187/187 [==============================] - 23s 123ms/step - loss: 0.4516 - accuracy: 0.8277 - lr: 0.0010\n",
            "Epoch 9/10\n",
            "187/187 [==============================] - 23s 123ms/step - loss: 0.3808 - accuracy: 0.8643 - lr: 0.0010\n",
            "Epoch 10/10\n",
            "187/187 [==============================] - 23s 122ms/step - loss: 0.3131 - accuracy: 0.8944 - lr: 0.0010\n"
          ],
          "name": "stdout"
        },
        {
          "output_type": "execute_result",
          "data": {
            "text/plain": [
              "<tensorflow.python.keras.callbacks.History at 0x7f5d8a64e080>"
            ]
          },
          "metadata": {
            "tags": []
          },
          "execution_count": 9
        }
      ]
    },
    {
      "cell_type": "code",
      "metadata": {
        "id": "HpuZnc_rB-_K",
        "colab_type": "code",
        "colab": {}
      },
      "source": [
        "#Using the trained model for predictions\n",
        "test_labels=actual_model.predict(X_test)\n",
        "testClassLabels=[]\n",
        "for i in test_labels:\n",
        "  testClassLabels.append(np.argmax(i))\n",
        "class_label=[inverse_map[x] for x in testClassLabels]"
      ],
      "execution_count": null,
      "outputs": []
    },
    {
      "cell_type": "code",
      "metadata": {
        "id": "GVAaHYxfHKPq",
        "colab_type": "code",
        "colab": {}
      },
      "source": [
        "submission=pd.DataFrame({\"Image\":test_data.Image,\"Class\":class_label})\n",
        "submission.to_csv('/content/drive/My Drive/oooops.csv', index=False)"
      ],
      "execution_count": null,
      "outputs": []
    }
  ]
}